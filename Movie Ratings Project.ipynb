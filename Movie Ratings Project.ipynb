{
 "cells": [
  {
   "cell_type": "markdown",
   "metadata": {},
   "source": [
    "# Movie Rating Analysis"
   ]
  },
  {
   "cell_type": "code",
   "execution_count": 1,
   "metadata": {},
   "outputs": [],
   "source": [
    "import numpy as np\n",
    "import pandas as pd\n",
    "import matplotlib.pyplot as plt\n",
    "%matplotlib inline"
   ]
  },
  {
   "cell_type": "markdown",
   "metadata": {},
   "source": [
    "The goal of this project is to analyze a dataset of movie ratings from MovieLens to determine whether users who rate more movies give higher or lower ratings compared to users who rate fewer movies."
   ]
  },
  {
   "cell_type": "markdown",
   "metadata": {},
   "source": [
    "## Data Import and Formatting"
   ]
  },
  {
   "cell_type": "code",
   "execution_count": 2,
   "metadata": {},
   "outputs": [
    {
     "data": {
      "text/html": [
       "<div>\n",
       "<style scoped>\n",
       "    .dataframe tbody tr th:only-of-type {\n",
       "        vertical-align: middle;\n",
       "    }\n",
       "\n",
       "    .dataframe tbody tr th {\n",
       "        vertical-align: top;\n",
       "    }\n",
       "\n",
       "    .dataframe thead th {\n",
       "        text-align: right;\n",
       "    }\n",
       "</style>\n",
       "<table border=\"1\" class=\"dataframe\">\n",
       "  <thead>\n",
       "    <tr style=\"text-align: right;\">\n",
       "      <th></th>\n",
       "      <th>movieId</th>\n",
       "      <th>title</th>\n",
       "      <th>genres</th>\n",
       "    </tr>\n",
       "  </thead>\n",
       "  <tbody>\n",
       "    <tr>\n",
       "      <th>0</th>\n",
       "      <td>1</td>\n",
       "      <td>Toy Story (1995)</td>\n",
       "      <td>Adventure|Animation|Children|Comedy|Fantasy</td>\n",
       "    </tr>\n",
       "    <tr>\n",
       "      <th>1</th>\n",
       "      <td>2</td>\n",
       "      <td>Jumanji (1995)</td>\n",
       "      <td>Adventure|Children|Fantasy</td>\n",
       "    </tr>\n",
       "    <tr>\n",
       "      <th>2</th>\n",
       "      <td>3</td>\n",
       "      <td>Grumpier Old Men (1995)</td>\n",
       "      <td>Comedy|Romance</td>\n",
       "    </tr>\n",
       "    <tr>\n",
       "      <th>3</th>\n",
       "      <td>4</td>\n",
       "      <td>Waiting to Exhale (1995)</td>\n",
       "      <td>Comedy|Drama|Romance</td>\n",
       "    </tr>\n",
       "    <tr>\n",
       "      <th>4</th>\n",
       "      <td>5</td>\n",
       "      <td>Father of the Bride Part II (1995)</td>\n",
       "      <td>Comedy</td>\n",
       "    </tr>\n",
       "  </tbody>\n",
       "</table>\n",
       "</div>"
      ],
      "text/plain": [
       "   movieId                               title  \\\n",
       "0        1                    Toy Story (1995)   \n",
       "1        2                      Jumanji (1995)   \n",
       "2        3             Grumpier Old Men (1995)   \n",
       "3        4            Waiting to Exhale (1995)   \n",
       "4        5  Father of the Bride Part II (1995)   \n",
       "\n",
       "                                        genres  \n",
       "0  Adventure|Animation|Children|Comedy|Fantasy  \n",
       "1                   Adventure|Children|Fantasy  \n",
       "2                               Comedy|Romance  \n",
       "3                         Comedy|Drama|Romance  \n",
       "4                                       Comedy  "
      ]
     },
     "execution_count": 2,
     "metadata": {},
     "output_type": "execute_result"
    }
   ],
   "source": [
    "movies = pd.read_csv('./ml-latest/movies.csv', sep=',')\n",
    "movies.head()"
   ]
  },
  {
   "cell_type": "code",
   "execution_count": 3,
   "metadata": {},
   "outputs": [
    {
     "data": {
      "text/html": [
       "<div>\n",
       "<style scoped>\n",
       "    .dataframe tbody tr th:only-of-type {\n",
       "        vertical-align: middle;\n",
       "    }\n",
       "\n",
       "    .dataframe tbody tr th {\n",
       "        vertical-align: top;\n",
       "    }\n",
       "\n",
       "    .dataframe thead th {\n",
       "        text-align: right;\n",
       "    }\n",
       "</style>\n",
       "<table border=\"1\" class=\"dataframe\">\n",
       "  <thead>\n",
       "    <tr style=\"text-align: right;\">\n",
       "      <th></th>\n",
       "      <th>userId</th>\n",
       "      <th>movieId</th>\n",
       "      <th>rating</th>\n",
       "      <th>timestamp</th>\n",
       "    </tr>\n",
       "  </thead>\n",
       "  <tbody>\n",
       "    <tr>\n",
       "      <th>0</th>\n",
       "      <td>1</td>\n",
       "      <td>110</td>\n",
       "      <td>1.0</td>\n",
       "      <td>1425941529</td>\n",
       "    </tr>\n",
       "    <tr>\n",
       "      <th>1</th>\n",
       "      <td>1</td>\n",
       "      <td>147</td>\n",
       "      <td>4.5</td>\n",
       "      <td>1425942435</td>\n",
       "    </tr>\n",
       "    <tr>\n",
       "      <th>2</th>\n",
       "      <td>1</td>\n",
       "      <td>858</td>\n",
       "      <td>5.0</td>\n",
       "      <td>1425941523</td>\n",
       "    </tr>\n",
       "    <tr>\n",
       "      <th>3</th>\n",
       "      <td>1</td>\n",
       "      <td>1221</td>\n",
       "      <td>5.0</td>\n",
       "      <td>1425941546</td>\n",
       "    </tr>\n",
       "    <tr>\n",
       "      <th>4</th>\n",
       "      <td>1</td>\n",
       "      <td>1246</td>\n",
       "      <td>5.0</td>\n",
       "      <td>1425941556</td>\n",
       "    </tr>\n",
       "  </tbody>\n",
       "</table>\n",
       "</div>"
      ],
      "text/plain": [
       "   userId  movieId  rating   timestamp\n",
       "0       1      110     1.0  1425941529\n",
       "1       1      147     4.5  1425942435\n",
       "2       1      858     5.0  1425941523\n",
       "3       1     1221     5.0  1425941546\n",
       "4       1     1246     5.0  1425941556"
      ]
     },
     "execution_count": 3,
     "metadata": {},
     "output_type": "execute_result"
    }
   ],
   "source": [
    "ratings = pd.read_csv('./ml-latest/ratings.csv')\n",
    "ratings.head()"
   ]
  },
  {
   "cell_type": "code",
   "execution_count": 4,
   "metadata": {},
   "outputs": [],
   "source": [
    "del ratings['timestamp']\n",
    "del movies['genres']"
   ]
  },
  {
   "cell_type": "markdown",
   "metadata": {},
   "source": [
    "Checking if there are any null values in dataset:"
   ]
  },
  {
   "cell_type": "code",
   "execution_count": 5,
   "metadata": {},
   "outputs": [
    {
     "name": "stdout",
     "output_type": "stream",
     "text": [
      "movieId    False\n",
      "title      False\n",
      "dtype: bool\n",
      "userId     False\n",
      "movieId    False\n",
      "rating     False\n",
      "dtype: bool\n"
     ]
    }
   ],
   "source": [
    "print(movies.isnull().any())\n",
    "print(ratings.isnull().any())"
   ]
  },
  {
   "cell_type": "markdown",
   "metadata": {},
   "source": [
    "No null values!"
   ]
  },
  {
   "cell_type": "markdown",
   "metadata": {},
   "source": [
    "Now we will calculate the average rating for each movie using the ratings dataset."
   ]
  },
  {
   "cell_type": "code",
   "execution_count": 6,
   "metadata": {},
   "outputs": [
    {
     "data": {
      "text/html": [
       "<div>\n",
       "<style scoped>\n",
       "    .dataframe tbody tr th:only-of-type {\n",
       "        vertical-align: middle;\n",
       "    }\n",
       "\n",
       "    .dataframe tbody tr th {\n",
       "        vertical-align: top;\n",
       "    }\n",
       "\n",
       "    .dataframe thead th {\n",
       "        text-align: right;\n",
       "    }\n",
       "</style>\n",
       "<table border=\"1\" class=\"dataframe\">\n",
       "  <thead>\n",
       "    <tr style=\"text-align: right;\">\n",
       "      <th></th>\n",
       "      <th>rating</th>\n",
       "    </tr>\n",
       "    <tr>\n",
       "      <th>movieId</th>\n",
       "      <th></th>\n",
       "    </tr>\n",
       "  </thead>\n",
       "  <tbody>\n",
       "    <tr>\n",
       "      <th>1</th>\n",
       "      <td>3.888157</td>\n",
       "    </tr>\n",
       "    <tr>\n",
       "      <th>2</th>\n",
       "      <td>3.236953</td>\n",
       "    </tr>\n",
       "    <tr>\n",
       "      <th>3</th>\n",
       "      <td>3.175550</td>\n",
       "    </tr>\n",
       "    <tr>\n",
       "      <th>4</th>\n",
       "      <td>2.875713</td>\n",
       "    </tr>\n",
       "    <tr>\n",
       "      <th>5</th>\n",
       "      <td>3.079565</td>\n",
       "    </tr>\n",
       "  </tbody>\n",
       "</table>\n",
       "</div>"
      ],
      "text/plain": [
       "           rating\n",
       "movieId          \n",
       "1        3.888157\n",
       "2        3.236953\n",
       "3        3.175550\n",
       "4        2.875713\n",
       "5        3.079565"
      ]
     },
     "execution_count": 6,
     "metadata": {},
     "output_type": "execute_result"
    }
   ],
   "source": [
    "avg_ratings = ratings[['movieId','rating']].groupby('movieId').mean()\n",
    "avg_ratings.head()\n",
    "#print(avg_ratings.shape)"
   ]
  },
  {
   "cell_type": "markdown",
   "metadata": {},
   "source": [
    "Adding a column with standard deviations:"
   ]
  },
  {
   "cell_type": "code",
   "execution_count": 7,
   "metadata": {},
   "outputs": [],
   "source": [
    "avg_ratings_std = ratings[['movieId','rating']].groupby('movieId').std()\n",
    "avg_ratings_std.columns = ['st dev']"
   ]
  },
  {
   "cell_type": "code",
   "execution_count": 8,
   "metadata": {},
   "outputs": [
    {
     "data": {
      "text/html": [
       "<div>\n",
       "<style scoped>\n",
       "    .dataframe tbody tr th:only-of-type {\n",
       "        vertical-align: middle;\n",
       "    }\n",
       "\n",
       "    .dataframe tbody tr th {\n",
       "        vertical-align: top;\n",
       "    }\n",
       "\n",
       "    .dataframe thead th {\n",
       "        text-align: right;\n",
       "    }\n",
       "</style>\n",
       "<table border=\"1\" class=\"dataframe\">\n",
       "  <thead>\n",
       "    <tr style=\"text-align: right;\">\n",
       "      <th></th>\n",
       "      <th>rating</th>\n",
       "      <th>st dev</th>\n",
       "    </tr>\n",
       "    <tr>\n",
       "      <th>movieId</th>\n",
       "      <th></th>\n",
       "      <th></th>\n",
       "    </tr>\n",
       "  </thead>\n",
       "  <tbody>\n",
       "    <tr>\n",
       "      <th>1</th>\n",
       "      <td>3.888157</td>\n",
       "      <td>0.927513</td>\n",
       "    </tr>\n",
       "    <tr>\n",
       "      <th>2</th>\n",
       "      <td>3.236953</td>\n",
       "      <td>0.958437</td>\n",
       "    </tr>\n",
       "    <tr>\n",
       "      <th>3</th>\n",
       "      <td>3.175550</td>\n",
       "      <td>1.013307</td>\n",
       "    </tr>\n",
       "    <tr>\n",
       "      <th>4</th>\n",
       "      <td>2.875713</td>\n",
       "      <td>1.111442</td>\n",
       "    </tr>\n",
       "    <tr>\n",
       "      <th>5</th>\n",
       "      <td>3.079565</td>\n",
       "      <td>0.993108</td>\n",
       "    </tr>\n",
       "  </tbody>\n",
       "</table>\n",
       "</div>"
      ],
      "text/plain": [
       "           rating    st dev\n",
       "movieId                    \n",
       "1        3.888157  0.927513\n",
       "2        3.236953  0.958437\n",
       "3        3.175550  1.013307\n",
       "4        2.875713  1.111442\n",
       "5        3.079565  0.993108"
      ]
     },
     "execution_count": 8,
     "metadata": {},
     "output_type": "execute_result"
    }
   ],
   "source": [
    "avg_ratings = pd.concat([avg_ratings, avg_ratings_std], axis = 1, join = 'inner')\n",
    "avg_ratings.head()"
   ]
  },
  {
   "cell_type": "markdown",
   "metadata": {},
   "source": [
    "We now have a dataframe of each movie's average rating and rating standard deviation."
   ]
  },
  {
   "cell_type": "markdown",
   "metadata": {},
   "source": [
    "Next, we will look at ratings by individual users:"
   ]
  },
  {
   "cell_type": "code",
   "execution_count": 9,
   "metadata": {},
   "outputs": [
    {
     "data": {
      "text/html": [
       "<div>\n",
       "<style scoped>\n",
       "    .dataframe tbody tr th:only-of-type {\n",
       "        vertical-align: middle;\n",
       "    }\n",
       "\n",
       "    .dataframe tbody tr th {\n",
       "        vertical-align: top;\n",
       "    }\n",
       "\n",
       "    .dataframe thead th {\n",
       "        text-align: right;\n",
       "    }\n",
       "</style>\n",
       "<table border=\"1\" class=\"dataframe\">\n",
       "  <thead>\n",
       "    <tr style=\"text-align: right;\">\n",
       "      <th></th>\n",
       "      <th># of ratings</th>\n",
       "    </tr>\n",
       "    <tr>\n",
       "      <th>userId</th>\n",
       "      <th></th>\n",
       "    </tr>\n",
       "  </thead>\n",
       "  <tbody>\n",
       "    <tr>\n",
       "      <th>1</th>\n",
       "      <td>27</td>\n",
       "    </tr>\n",
       "    <tr>\n",
       "      <th>2</th>\n",
       "      <td>22</td>\n",
       "    </tr>\n",
       "    <tr>\n",
       "      <th>3</th>\n",
       "      <td>10</td>\n",
       "    </tr>\n",
       "    <tr>\n",
       "      <th>4</th>\n",
       "      <td>62</td>\n",
       "    </tr>\n",
       "    <tr>\n",
       "      <th>5</th>\n",
       "      <td>26</td>\n",
       "    </tr>\n",
       "  </tbody>\n",
       "</table>\n",
       "</div>"
      ],
      "text/plain": [
       "        # of ratings\n",
       "userId              \n",
       "1                 27\n",
       "2                 22\n",
       "3                 10\n",
       "4                 62\n",
       "5                 26"
      ]
     },
     "execution_count": 9,
     "metadata": {},
     "output_type": "execute_result"
    }
   ],
   "source": [
    "ratings_per_user = ratings[['userId','rating']].groupby('userId').count()\n",
    "ratings_per_user.columns = ['# of ratings']\n",
    "ratings_per_user.head()"
   ]
  },
  {
   "cell_type": "code",
   "execution_count": 10,
   "metadata": {},
   "outputs": [
    {
     "data": {
      "text/plain": [
       "[0, 500, 0, 175000]"
      ]
     },
     "execution_count": 10,
     "metadata": {},
     "output_type": "execute_result"
    },
    {
     "data": {
      "image/png": "[encoded data removed]",
      "text/plain": [
       "<Figure size 432x288 with 1 Axes>"
      ]
     },
     "metadata": {},
     "output_type": "display_data"
    }
   ],
   "source": [
    "#Let's take a look at a histogram of the number of ratings per user:\n",
    "plt.hist(ratings_per_user['# of ratings'], bins = 500)\n",
    "plt.axis([0,500,0,175000])"
   ]
  },
  {
   "cell_type": "markdown",
   "metadata": {},
   "source": [
    "From this, we see that the vast majority of users have rated very few movies. There is a long tail to the right."
   ]
  },
  {
   "cell_type": "code",
   "execution_count": 11,
   "metadata": {},
   "outputs": [
    {
     "data": {
      "text/plain": [
       "18276"
      ]
     },
     "execution_count": 11,
     "metadata": {},
     "output_type": "execute_result"
    }
   ],
   "source": [
    "ratings_per_user['# of ratings'].max()"
   ]
  },
  {
   "cell_type": "markdown",
   "metadata": {},
   "source": [
    "There was one user who rated over 18,000 movies!"
   ]
  },
  {
   "cell_type": "markdown",
   "metadata": {},
   "source": [
    "### Z-Scores"
   ]
  },
  {
   "cell_type": "markdown",
   "metadata": {},
   "source": [
    "Next, we'll try to calculate the z scores for every single rating in the ratings dataframe. Because there are 26 million reviews, we have to find a method that is efficient enough to run in a reasonable amount of time.\n",
    "\n",
    "Method 1: Iterate over every single rating and reference the mean and st dev in avg_ratings to calculate z-scores."
   ]
  },
  {
   "cell_type": "code",
   "execution_count": 12,
   "metadata": {
    "scrolled": true
   },
   "outputs": [],
   "source": [
    "#small_ratings_1 = ratings[:10]\n",
    "#small_ratings_1['z score'] = np.nan\n",
    "#print(small_ratings_1)"
   ]
  },
  {
   "cell_type": "code",
   "execution_count": 13,
   "metadata": {},
   "outputs": [],
   "source": [
    "#for row in small_ratings_1.itertuples():\n",
    "#    small_ratings_1['z score'].iloc[row[0]] = (row[3] - avg_ratings['rating'].loc[row[2]]) / avg_ratings['st dev'].loc[row[2]]"
   ]
  },
  {
   "cell_type": "code",
   "execution_count": 14,
   "metadata": {},
   "outputs": [],
   "source": [
    "#ratings['z score'] = np.nan\n",
    "#for row in ratings[:100].itertuples():\n",
    "#    ratings['z score'].iloc[row[0]] = (row[3] - avg_ratings['rating'].loc[row[2]]) / avg_ratings['st dev'].loc[row[2]]\n",
    "#ratings.head(10)"
   ]
  },
  {
   "cell_type": "code",
   "execution_count": 15,
   "metadata": {},
   "outputs": [],
   "source": [
    "#ratings.shape"
   ]
  },
  {
   "cell_type": "markdown",
   "metadata": {},
   "source": [
    "Next: use %timeit to find how long calculations will take.\n",
    "\n",
    "Method 1 implementation: It takes 55 ms per loop -> 17 days to calculate all 26 million!\n",
    "\n",
    "We need to find a faster method."
   ]
  },
  {
   "cell_type": "markdown",
   "metadata": {},
   "source": [
    "Method 2: add mean and st dev columns to ratings dataframe, then use array operations to calculate the z scores."
   ]
  },
  {
   "cell_type": "code",
   "execution_count": 16,
   "metadata": {},
   "outputs": [],
   "source": [
    "# small_ratings_2 = ratings[:100]\n",
    "# small_ratings_2['mean'], small_ratings_2['st dev'] = np.nan, np.nan\n",
    "# small_ratings_2.head()"
   ]
  },
  {
   "cell_type": "code",
   "execution_count": 17,
   "metadata": {},
   "outputs": [],
   "source": [
    "#for row in small_ratings_2.itertuples():\n",
    "#    %timeit small_ratings_2['mean'].iloc[row[0]] = avg_ratings['rating'].loc[row[2]]\n",
    "#    small_ratings_2['st dev'].iloc[row[0]] = avg_ratings['st dev'].loc[row[2]]\n",
    "#small_ratings_2.head(10)"
   ]
  },
  {
   "cell_type": "markdown",
   "metadata": {},
   "source": [
    "Method 2 took even longer - 66 ms per loop just to add new columns to the ratings table without even calculating z scores."
   ]
  },
  {
   "cell_type": "markdown",
   "metadata": {},
   "source": [
    "Method 3: First group the ratings database by MovieId, then build another dataframe with all of the means and st devs to match up with the ratings dataframe. Then use array operations to calculate z scores.\n",
    "We'll iterate over the 45,000 movies instead of the 26 million ratings, which should save a lot of time."
   ]
  },
  {
   "cell_type": "code",
   "execution_count": 18,
   "metadata": {},
   "outputs": [
    {
     "data": {
      "text/html": [
       "<div>\n",
       "<style scoped>\n",
       "    .dataframe tbody tr th:only-of-type {\n",
       "        vertical-align: middle;\n",
       "    }\n",
       "\n",
       "    .dataframe tbody tr th {\n",
       "        vertical-align: top;\n",
       "    }\n",
       "\n",
       "    .dataframe thead th {\n",
       "        text-align: right;\n",
       "    }\n",
       "</style>\n",
       "<table border=\"1\" class=\"dataframe\">\n",
       "  <thead>\n",
       "    <tr style=\"text-align: right;\">\n",
       "      <th></th>\n",
       "      <th>userId</th>\n",
       "      <th>movieId</th>\n",
       "      <th>rating</th>\n",
       "    </tr>\n",
       "  </thead>\n",
       "  <tbody>\n",
       "    <tr>\n",
       "      <th>204</th>\n",
       "      <td>8</td>\n",
       "      <td>1</td>\n",
       "      <td>4.0</td>\n",
       "    </tr>\n",
       "    <tr>\n",
       "      <th>317</th>\n",
       "      <td>9</td>\n",
       "      <td>1</td>\n",
       "      <td>4.5</td>\n",
       "    </tr>\n",
       "    <tr>\n",
       "      <th>641</th>\n",
       "      <td>12</td>\n",
       "      <td>1</td>\n",
       "      <td>4.0</td>\n",
       "    </tr>\n",
       "    <tr>\n",
       "      <th>1358</th>\n",
       "      <td>20</td>\n",
       "      <td>1</td>\n",
       "      <td>4.0</td>\n",
       "    </tr>\n",
       "    <tr>\n",
       "      <th>1710</th>\n",
       "      <td>24</td>\n",
       "      <td>1</td>\n",
       "      <td>4.0</td>\n",
       "    </tr>\n",
       "  </tbody>\n",
       "</table>\n",
       "</div>"
      ],
      "text/plain": [
       "      userId  movieId  rating\n",
       "204        8        1     4.0\n",
       "317        9        1     4.5\n",
       "641       12        1     4.0\n",
       "1358      20        1     4.0\n",
       "1710      24        1     4.0"
      ]
     },
     "execution_count": 18,
     "metadata": {},
     "output_type": "execute_result"
    }
   ],
   "source": [
    "movieId_ratings = ratings.sort_values(['movieId','userId'])\n",
    "movieId_ratings.head()"
   ]
  },
  {
   "cell_type": "code",
   "execution_count": 19,
   "metadata": {},
   "outputs": [
    {
     "data": {
      "text/html": [
       "<div>\n",
       "<style scoped>\n",
       "    .dataframe tbody tr th:only-of-type {\n",
       "        vertical-align: middle;\n",
       "    }\n",
       "\n",
       "    .dataframe tbody tr th {\n",
       "        vertical-align: top;\n",
       "    }\n",
       "\n",
       "    .dataframe thead th {\n",
       "        text-align: right;\n",
       "    }\n",
       "</style>\n",
       "<table border=\"1\" class=\"dataframe\">\n",
       "  <thead>\n",
       "    <tr style=\"text-align: right;\">\n",
       "      <th></th>\n",
       "      <th># of reviews</th>\n",
       "    </tr>\n",
       "    <tr>\n",
       "      <th>movieId</th>\n",
       "      <th></th>\n",
       "    </tr>\n",
       "  </thead>\n",
       "  <tbody>\n",
       "    <tr>\n",
       "      <th>1</th>\n",
       "      <td>66008</td>\n",
       "    </tr>\n",
       "    <tr>\n",
       "      <th>2</th>\n",
       "      <td>26060</td>\n",
       "    </tr>\n",
       "    <tr>\n",
       "      <th>3</th>\n",
       "      <td>15497</td>\n",
       "    </tr>\n",
       "    <tr>\n",
       "      <th>4</th>\n",
       "      <td>2981</td>\n",
       "    </tr>\n",
       "    <tr>\n",
       "      <th>5</th>\n",
       "      <td>15258</td>\n",
       "    </tr>\n",
       "    <tr>\n",
       "      <th>6</th>\n",
       "      <td>27895</td>\n",
       "    </tr>\n",
       "    <tr>\n",
       "      <th>7</th>\n",
       "      <td>15157</td>\n",
       "    </tr>\n",
       "    <tr>\n",
       "      <th>8</th>\n",
       "      <td>1521</td>\n",
       "    </tr>\n",
       "    <tr>\n",
       "      <th>9</th>\n",
       "      <td>4423</td>\n",
       "    </tr>\n",
       "    <tr>\n",
       "      <th>10</th>\n",
       "      <td>32534</td>\n",
       "    </tr>\n",
       "  </tbody>\n",
       "</table>\n",
       "</div>"
      ],
      "text/plain": [
       "         # of reviews\n",
       "movieId              \n",
       "1               66008\n",
       "2               26060\n",
       "3               15497\n",
       "4                2981\n",
       "5               15258\n",
       "6               27895\n",
       "7               15157\n",
       "8                1521\n",
       "9                4423\n",
       "10              32534"
      ]
     },
     "execution_count": 19,
     "metadata": {},
     "output_type": "execute_result"
    }
   ],
   "source": [
    "movieId_ratings_count = ratings[['movieId', 'userId']].groupby('movieId').count()\n",
    "movieId_ratings_count.columns = ['# of reviews']\n",
    "movieId_ratings_count.head(10)"
   ]
  },
  {
   "cell_type": "markdown",
   "metadata": {},
   "source": [
    "This tells us how many ratings each movie has. We'll use this to know how many ratings to apply a movie's mean and st dev to when we're iterating over the 45,000 movies."
   ]
  },
  {
   "cell_type": "code",
   "execution_count": 20,
   "metadata": {},
   "outputs": [
    {
     "data": {
      "text/html": [
       "<div>\n",
       "<style scoped>\n",
       "    .dataframe tbody tr th:only-of-type {\n",
       "        vertical-align: middle;\n",
       "    }\n",
       "\n",
       "    .dataframe tbody tr th {\n",
       "        vertical-align: top;\n",
       "    }\n",
       "\n",
       "    .dataframe thead th {\n",
       "        text-align: right;\n",
       "    }\n",
       "</style>\n",
       "<table border=\"1\" class=\"dataframe\">\n",
       "  <thead>\n",
       "    <tr style=\"text-align: right;\">\n",
       "      <th></th>\n",
       "      <th>rating</th>\n",
       "      <th>st dev</th>\n",
       "      <th># of reviews</th>\n",
       "    </tr>\n",
       "    <tr>\n",
       "      <th>movieId</th>\n",
       "      <th></th>\n",
       "      <th></th>\n",
       "      <th></th>\n",
       "    </tr>\n",
       "  </thead>\n",
       "  <tbody>\n",
       "    <tr>\n",
       "      <th>1</th>\n",
       "      <td>3.888157</td>\n",
       "      <td>0.927513</td>\n",
       "      <td>66008</td>\n",
       "    </tr>\n",
       "    <tr>\n",
       "      <th>2</th>\n",
       "      <td>3.236953</td>\n",
       "      <td>0.958437</td>\n",
       "      <td>26060</td>\n",
       "    </tr>\n",
       "    <tr>\n",
       "      <th>3</th>\n",
       "      <td>3.175550</td>\n",
       "      <td>1.013307</td>\n",
       "      <td>15497</td>\n",
       "    </tr>\n",
       "    <tr>\n",
       "      <th>4</th>\n",
       "      <td>2.875713</td>\n",
       "      <td>1.111442</td>\n",
       "      <td>2981</td>\n",
       "    </tr>\n",
       "    <tr>\n",
       "      <th>5</th>\n",
       "      <td>3.079565</td>\n",
       "      <td>0.993108</td>\n",
       "      <td>15258</td>\n",
       "    </tr>\n",
       "    <tr>\n",
       "      <th>6</th>\n",
       "      <td>3.841764</td>\n",
       "      <td>0.883211</td>\n",
       "      <td>27895</td>\n",
       "    </tr>\n",
       "    <tr>\n",
       "      <th>7</th>\n",
       "      <td>3.372105</td>\n",
       "      <td>0.962936</td>\n",
       "      <td>15157</td>\n",
       "    </tr>\n",
       "    <tr>\n",
       "      <th>8</th>\n",
       "      <td>3.129191</td>\n",
       "      <td>0.992360</td>\n",
       "      <td>1521</td>\n",
       "    </tr>\n",
       "    <tr>\n",
       "      <th>9</th>\n",
       "      <td>3.008365</td>\n",
       "      <td>0.966091</td>\n",
       "      <td>4423</td>\n",
       "    </tr>\n",
       "    <tr>\n",
       "      <th>10</th>\n",
       "      <td>3.431841</td>\n",
       "      <td>0.870634</td>\n",
       "      <td>32534</td>\n",
       "    </tr>\n",
       "  </tbody>\n",
       "</table>\n",
       "</div>"
      ],
      "text/plain": [
       "           rating    st dev  # of reviews\n",
       "movieId                                  \n",
       "1        3.888157  0.927513         66008\n",
       "2        3.236953  0.958437         26060\n",
       "3        3.175550  1.013307         15497\n",
       "4        2.875713  1.111442          2981\n",
       "5        3.079565  0.993108         15258\n",
       "6        3.841764  0.883211         27895\n",
       "7        3.372105  0.962936         15157\n",
       "8        3.129191  0.992360          1521\n",
       "9        3.008365  0.966091          4423\n",
       "10       3.431841  0.870634         32534"
      ]
     },
     "execution_count": 20,
     "metadata": {},
     "output_type": "execute_result"
    }
   ],
   "source": [
    "avg_ratings = pd.concat([avg_ratings, movieId_ratings_count], axis = 1, join = 'inner')\n",
    "avg_ratings.head(10)"
   ]
  },
  {
   "cell_type": "code",
   "execution_count": 21,
   "metadata": {},
   "outputs": [
    {
     "data": {
      "text/plain": [
       "(45115, 3)"
      ]
     },
     "execution_count": 21,
     "metadata": {},
     "output_type": "execute_result"
    }
   ],
   "source": [
    "avg_ratings.shape"
   ]
  },
  {
   "cell_type": "markdown",
   "metadata": {},
   "source": [
    "Next, we will create two additional columns in movieId_ratings for mean and st dev. \n",
    "To fill in these values, we will iterate through avg_ratings and reference avg_ratings to add the mean and st dev values into the ratings dataframe."
   ]
  },
  {
   "cell_type": "code",
   "execution_count": 22,
   "metadata": {},
   "outputs": [],
   "source": [
    "movieId_ratings['mean'], movieId_ratings['st dev'] = np.nan, np.nan"
   ]
  },
  {
   "cell_type": "code",
   "execution_count": 23,
   "metadata": {},
   "outputs": [],
   "source": [
    "# #Shortened version - first 50 movies - for testing purposes.\n",
    "#start = 0 #tells which index to start at for each movie\n",
    "# for row in avg_ratings[:50].itertuples():\n",
    "#     movieId_ratings['mean'].iloc[start:start+row[3]] = row[1]\n",
    "#     movieId_ratings['st dev'].iloc[start:start+row[3]] = row[2]\n",
    "#     start += row[3]\n",
    "# movieId_ratings.head(30)"
   ]
  },
  {
   "cell_type": "markdown",
   "metadata": {},
   "source": [
    "Good news! The first 50 movies, which include the first take 43.5 seconds to run. Extrapolating this result to all 45,000 movies, we get a total runtime of ~3 hours, which is a whole lot better than 17 days."
   ]
  },
  {
   "cell_type": "code",
   "execution_count": 24,
   "metadata": {},
   "outputs": [
    {
     "name": "stdout",
     "output_type": "stream",
     "text": [
      "737662\n"
     ]
    }
   ],
   "source": [
    "print(avg_ratings['# of reviews'][:50].sum())"
   ]
  },
  {
   "cell_type": "code",
   "execution_count": 25,
   "metadata": {
    "scrolled": true
   },
   "outputs": [],
   "source": [
    "# #Testing that the values switch at the right time between movies 2 and 3:\n",
    "# print(movieId_ratings.iloc[92060:92072])"
   ]
  },
  {
   "cell_type": "markdown",
   "metadata": {},
   "source": [
    "Eventually, we will run this for the full length of time to get the dataframe with mean and st dev included for all 46,000 movies.\n",
    "The dataframe has been split into 3 smaller dataframes to allow for easier calculation (so computer doesn't have to run for many hours straight).\n",
    "\n",
    "\n",
    "We will export these dataframes as csvs so that the data can easily be accessed in the future without having to run that piece of code all over again."
   ]
  },
  {
   "cell_type": "code",
   "execution_count": 26,
   "metadata": {},
   "outputs": [],
   "source": [
    "# #Testing out calculation of z score:\n",
    "# movieId_ratings['z score'] = (movieId_ratings['rating'] - movieId_ratings['mean'])/movieId_ratings['st dev']\n",
    "# movieId_ratings.head(10)\n",
    "# #Only takes ~5 seconds. Will probably take longer when the values are no longer NaN."
   ]
  },
  {
   "cell_type": "code",
   "execution_count": 27,
   "metadata": {},
   "outputs": [],
   "source": [
    "# avg_ratings_0 = avg_ratings[:2000]\n",
    "# n_ratings_through_0 = avg_ratings_0['# of reviews'].sum()\n",
    "# print(n_ratings_through_0)\n",
    "# #The movieId df will have this many rows for the first 23,000 movies."
   ]
  },
  {
   "cell_type": "code",
   "execution_count": 28,
   "metadata": {},
   "outputs": [],
   "source": [
    "# movieId_ratings_0 = movieId_ratings[:11367414]"
   ]
  },
  {
   "cell_type": "code",
   "execution_count": 29,
   "metadata": {},
   "outputs": [],
   "source": [
    "# start = 0 #tells which index to start at for each movie\n",
    "# for row in avg_ratings_0.itertuples():\n",
    "#     movieId_ratings_0['mean'].iloc[start:start+row[3]] = row[1]\n",
    "#     movieId_ratings_0['st dev'].iloc[start:start+row[3]] = row[2]\n",
    "#     start += row[3]\n",
    "# movieId_ratings.tail(20)"
   ]
  },
  {
   "cell_type": "code",
   "execution_count": 30,
   "metadata": {},
   "outputs": [],
   "source": [
    "# movieId_ratings_0.to_csv('movieId_ratings_0.csv')"
   ]
  },
  {
   "cell_type": "markdown",
   "metadata": {},
   "source": [
    "This worked! It only took ~40 minutes. movieId_ratings_0 goes from movies 0 to 2,000 (~11 million reviews).\n",
    "The dataframe has been exported as movieId_ratings_0.csv."
   ]
  },
  {
   "cell_type": "code",
   "execution_count": 31,
   "metadata": {},
   "outputs": [],
   "source": [
    "# avg_ratings_1 = avg_ratings[2000:10000]\n",
    "# n_ratings_through_1 = n_ratings_through_0 + avg_ratings_1['# of reviews'].sum()"
   ]
  },
  {
   "cell_type": "code",
   "execution_count": 32,
   "metadata": {},
   "outputs": [],
   "source": [
    "# movieId_ratings_1 = movieId_ratings[n_ratings_through_0:n_ratings_through_1]"
   ]
  },
  {
   "cell_type": "code",
   "execution_count": 33,
   "metadata": {},
   "outputs": [],
   "source": [
    "# start = 0 #tells which index to start at for each movie\n",
    "# for row in avg_ratings_1.itertuples():\n",
    "#     movieId_ratings_1['mean'].iloc[start:start+row[3]] = row[1]\n",
    "#     movieId_ratings_1['st dev'].iloc[start:start+row[3]] = row[2]\n",
    "#     start += row[3]\n",
    "# movieId_ratings.head(20)"
   ]
  },
  {
   "cell_type": "code",
   "execution_count": 34,
   "metadata": {},
   "outputs": [],
   "source": [
    "# movieId_ratings_1.to_csv('movieId_ratings_1.csv')"
   ]
  },
  {
   "cell_type": "markdown",
   "metadata": {},
   "source": [
    "movieId_ratings_1 goes from movies 2,000 to 10,000 (~10 million reviews). Dataframe has been exported as movieId_ratings_1.csv."
   ]
  },
  {
   "cell_type": "code",
   "execution_count": 35,
   "metadata": {},
   "outputs": [],
   "source": [
    "# avg_ratings_2 = avg_ratings[10000:]\n",
    "# n_ratings_through_2 = n_ratings_through_1 + avg_ratings_2['# of reviews'].sum()\n",
    "# movieId_ratings_2 = movieId_ratings[n_ratings_through_1:n_ratings_through_2]"
   ]
  },
  {
   "cell_type": "code",
   "execution_count": 36,
   "metadata": {},
   "outputs": [],
   "source": [
    "# movieId_ratings_2.shape"
   ]
  },
  {
   "cell_type": "code",
   "execution_count": 37,
   "metadata": {},
   "outputs": [],
   "source": [
    "# start = 0 #tells which index to start at for each movie\n",
    "# for row in avg_ratings_2.itertuples():\n",
    "#     movieId_ratings_2['mean'].iloc[start:start+row[3]] = row[1]\n",
    "#     movieId_ratings_2['st dev'].iloc[start:start+row[3]] = row[2]\n",
    "#     start += row[3]\n",
    "# movieId_ratings_2.head(20)"
   ]
  },
  {
   "cell_type": "code",
   "execution_count": 38,
   "metadata": {},
   "outputs": [],
   "source": [
    "# movieId_ratings_2.to_csv('movieId_ratings_2.csv')"
   ]
  },
  {
   "cell_type": "markdown",
   "metadata": {},
   "source": [
    "movieId_ratings_2 goes from movies 10,000 to the end (~5 million reviews). Dataframe has been exported as movieId_ratings_2.csv.\n",
    "\n",
    "Overall, all of the calculations finished within about 2.5 hours."
   ]
  },
  {
   "cell_type": "markdown",
   "metadata": {},
   "source": [
    "Next, we will import the previously created csv files for further analysis. "
   ]
  },
  {
   "cell_type": "code",
   "execution_count": 39,
   "metadata": {},
   "outputs": [],
   "source": [
    "movieId_ratings_0 = pd.read_csv('./movieId_ratings_0.csv', sep=',')\n",
    "movieId_ratings_1 = pd.read_csv('./movieId_ratings_1.csv', sep=',')\n",
    "movieId_ratings_2 = pd.read_csv('./movieId_ratings_2.csv', sep=',')"
   ]
  },
  {
   "cell_type": "code",
   "execution_count": 40,
   "metadata": {},
   "outputs": [
    {
     "data": {
      "text/html": [
       "<div>\n",
       "<style scoped>\n",
       "    .dataframe tbody tr th:only-of-type {\n",
       "        vertical-align: middle;\n",
       "    }\n",
       "\n",
       "    .dataframe tbody tr th {\n",
       "        vertical-align: top;\n",
       "    }\n",
       "\n",
       "    .dataframe thead th {\n",
       "        text-align: right;\n",
       "    }\n",
       "</style>\n",
       "<table border=\"1\" class=\"dataframe\">\n",
       "  <thead>\n",
       "    <tr style=\"text-align: right;\">\n",
       "      <th></th>\n",
       "      <th>Unnamed: 0</th>\n",
       "      <th>userId</th>\n",
       "      <th>movieId</th>\n",
       "      <th>rating</th>\n",
       "      <th>mean</th>\n",
       "      <th>st dev</th>\n",
       "    </tr>\n",
       "  </thead>\n",
       "  <tbody>\n",
       "    <tr>\n",
       "      <th>4545054</th>\n",
       "      <td>18234777</td>\n",
       "      <td>189131</td>\n",
       "      <td>176267</td>\n",
       "      <td>4.0</td>\n",
       "      <td>4.0</td>\n",
       "      <td>NaN</td>\n",
       "    </tr>\n",
       "    <tr>\n",
       "      <th>4545055</th>\n",
       "      <td>9448563</td>\n",
       "      <td>97528</td>\n",
       "      <td>176269</td>\n",
       "      <td>3.5</td>\n",
       "      <td>3.5</td>\n",
       "      <td>NaN</td>\n",
       "    </tr>\n",
       "    <tr>\n",
       "      <th>4545056</th>\n",
       "      <td>83813</td>\n",
       "      <td>837</td>\n",
       "      <td>176271</td>\n",
       "      <td>5.0</td>\n",
       "      <td>5.0</td>\n",
       "      <td>NaN</td>\n",
       "    </tr>\n",
       "    <tr>\n",
       "      <th>4545057</th>\n",
       "      <td>25735653</td>\n",
       "      <td>267799</td>\n",
       "      <td>176273</td>\n",
       "      <td>1.0</td>\n",
       "      <td>1.0</td>\n",
       "      <td>NaN</td>\n",
       "    </tr>\n",
       "    <tr>\n",
       "      <th>4545058</th>\n",
       "      <td>17181377</td>\n",
       "      <td>178373</td>\n",
       "      <td>176275</td>\n",
       "      <td>3.0</td>\n",
       "      <td>3.0</td>\n",
       "      <td>NaN</td>\n",
       "    </tr>\n",
       "  </tbody>\n",
       "</table>\n",
       "</div>"
      ],
      "text/plain": [
       "         Unnamed: 0  userId  movieId  rating  mean  st dev\n",
       "4545054    18234777  189131   176267     4.0   4.0     NaN\n",
       "4545055     9448563   97528   176269     3.5   3.5     NaN\n",
       "4545056       83813     837   176271     5.0   5.0     NaN\n",
       "4545057    25735653  267799   176273     1.0   1.0     NaN\n",
       "4545058    17181377  178373   176275     3.0   3.0     NaN"
      ]
     },
     "execution_count": 40,
     "metadata": {},
     "output_type": "execute_result"
    }
   ],
   "source": [
    "movieId_ratings_2.tail()"
   ]
  },
  {
   "cell_type": "code",
   "execution_count": 41,
   "metadata": {},
   "outputs": [],
   "source": [
    "#Combining results back into a single dataframe: movieId_ratings\n",
    "movieId_ratings = pd.concat([movieId_ratings_0, movieId_ratings_1, movieId_ratings_2], join = 'inner')"
   ]
  },
  {
   "cell_type": "code",
   "execution_count": 42,
   "metadata": {},
   "outputs": [
    {
     "data": {
      "text/plain": [
       "(26024289, 6)"
      ]
     },
     "execution_count": 42,
     "metadata": {},
     "output_type": "execute_result"
    }
   ],
   "source": [
    "movieId_ratings.shape"
   ]
  },
  {
   "cell_type": "code",
   "execution_count": 43,
   "metadata": {},
   "outputs": [
    {
     "data": {
      "text/html": [
       "<div>\n",
       "<style scoped>\n",
       "    .dataframe tbody tr th:only-of-type {\n",
       "        vertical-align: middle;\n",
       "    }\n",
       "\n",
       "    .dataframe tbody tr th {\n",
       "        vertical-align: top;\n",
       "    }\n",
       "\n",
       "    .dataframe thead th {\n",
       "        text-align: right;\n",
       "    }\n",
       "</style>\n",
       "<table border=\"1\" class=\"dataframe\">\n",
       "  <thead>\n",
       "    <tr style=\"text-align: right;\">\n",
       "      <th></th>\n",
       "      <th>Unnamed: 0</th>\n",
       "      <th>userId</th>\n",
       "      <th>movieId</th>\n",
       "      <th>rating</th>\n",
       "      <th>mean</th>\n",
       "      <th>st dev</th>\n",
       "      <th>zscore</th>\n",
       "    </tr>\n",
       "  </thead>\n",
       "  <tbody>\n",
       "    <tr>\n",
       "      <th>4545039</th>\n",
       "      <td>18234770</td>\n",
       "      <td>189131</td>\n",
       "      <td>176231</td>\n",
       "      <td>2.5</td>\n",
       "      <td>2.50</td>\n",
       "      <td>NaN</td>\n",
       "      <td>NaN</td>\n",
       "    </tr>\n",
       "    <tr>\n",
       "      <th>4545040</th>\n",
       "      <td>18234771</td>\n",
       "      <td>189131</td>\n",
       "      <td>176233</td>\n",
       "      <td>2.0</td>\n",
       "      <td>2.00</td>\n",
       "      <td>NaN</td>\n",
       "      <td>NaN</td>\n",
       "    </tr>\n",
       "    <tr>\n",
       "      <th>4545041</th>\n",
       "      <td>18352091</td>\n",
       "      <td>190507</td>\n",
       "      <td>176235</td>\n",
       "      <td>1.5</td>\n",
       "      <td>1.50</td>\n",
       "      <td>NaN</td>\n",
       "      <td>NaN</td>\n",
       "    </tr>\n",
       "    <tr>\n",
       "      <th>4545042</th>\n",
       "      <td>18234772</td>\n",
       "      <td>189131</td>\n",
       "      <td>176237</td>\n",
       "      <td>3.0</td>\n",
       "      <td>3.00</td>\n",
       "      <td>NaN</td>\n",
       "      <td>NaN</td>\n",
       "    </tr>\n",
       "    <tr>\n",
       "      <th>4545043</th>\n",
       "      <td>3825706</td>\n",
       "      <td>39809</td>\n",
       "      <td>176239</td>\n",
       "      <td>3.0</td>\n",
       "      <td>3.75</td>\n",
       "      <td>1.06066</td>\n",
       "      <td>-0.707107</td>\n",
       "    </tr>\n",
       "    <tr>\n",
       "      <th>4545044</th>\n",
       "      <td>18234773</td>\n",
       "      <td>189131</td>\n",
       "      <td>176239</td>\n",
       "      <td>4.5</td>\n",
       "      <td>3.75</td>\n",
       "      <td>1.06066</td>\n",
       "      <td>0.707107</td>\n",
       "    </tr>\n",
       "    <tr>\n",
       "      <th>4545045</th>\n",
       "      <td>10368003</td>\n",
       "      <td>106988</td>\n",
       "      <td>176245</td>\n",
       "      <td>4.5</td>\n",
       "      <td>4.50</td>\n",
       "      <td>NaN</td>\n",
       "      <td>NaN</td>\n",
       "    </tr>\n",
       "    <tr>\n",
       "      <th>4545046</th>\n",
       "      <td>2368643</td>\n",
       "      <td>24523</td>\n",
       "      <td>176249</td>\n",
       "      <td>3.5</td>\n",
       "      <td>3.50</td>\n",
       "      <td>0.00000</td>\n",
       "      <td>NaN</td>\n",
       "    </tr>\n",
       "    <tr>\n",
       "      <th>4545047</th>\n",
       "      <td>18249944</td>\n",
       "      <td>189323</td>\n",
       "      <td>176249</td>\n",
       "      <td>3.5</td>\n",
       "      <td>3.50</td>\n",
       "      <td>0.00000</td>\n",
       "      <td>NaN</td>\n",
       "    </tr>\n",
       "    <tr>\n",
       "      <th>4545048</th>\n",
       "      <td>22694436</td>\n",
       "      <td>235828</td>\n",
       "      <td>176251</td>\n",
       "      <td>2.0</td>\n",
       "      <td>2.00</td>\n",
       "      <td>NaN</td>\n",
       "      <td>NaN</td>\n",
       "    </tr>\n",
       "    <tr>\n",
       "      <th>4545049</th>\n",
       "      <td>10392381</td>\n",
       "      <td>107291</td>\n",
       "      <td>176253</td>\n",
       "      <td>4.5</td>\n",
       "      <td>4.50</td>\n",
       "      <td>NaN</td>\n",
       "      <td>NaN</td>\n",
       "    </tr>\n",
       "    <tr>\n",
       "      <th>4545050</th>\n",
       "      <td>7479928</td>\n",
       "      <td>77179</td>\n",
       "      <td>176255</td>\n",
       "      <td>2.0</td>\n",
       "      <td>2.00</td>\n",
       "      <td>NaN</td>\n",
       "      <td>NaN</td>\n",
       "    </tr>\n",
       "    <tr>\n",
       "      <th>4545051</th>\n",
       "      <td>18234774</td>\n",
       "      <td>189131</td>\n",
       "      <td>176257</td>\n",
       "      <td>3.0</td>\n",
       "      <td>3.00</td>\n",
       "      <td>NaN</td>\n",
       "      <td>NaN</td>\n",
       "    </tr>\n",
       "    <tr>\n",
       "      <th>4545052</th>\n",
       "      <td>18234775</td>\n",
       "      <td>189131</td>\n",
       "      <td>176259</td>\n",
       "      <td>3.5</td>\n",
       "      <td>3.50</td>\n",
       "      <td>NaN</td>\n",
       "      <td>NaN</td>\n",
       "    </tr>\n",
       "    <tr>\n",
       "      <th>4545053</th>\n",
       "      <td>18234776</td>\n",
       "      <td>189131</td>\n",
       "      <td>176263</td>\n",
       "      <td>2.0</td>\n",
       "      <td>2.00</td>\n",
       "      <td>NaN</td>\n",
       "      <td>NaN</td>\n",
       "    </tr>\n",
       "    <tr>\n",
       "      <th>4545054</th>\n",
       "      <td>18234777</td>\n",
       "      <td>189131</td>\n",
       "      <td>176267</td>\n",
       "      <td>4.0</td>\n",
       "      <td>4.00</td>\n",
       "      <td>NaN</td>\n",
       "      <td>NaN</td>\n",
       "    </tr>\n",
       "    <tr>\n",
       "      <th>4545055</th>\n",
       "      <td>9448563</td>\n",
       "      <td>97528</td>\n",
       "      <td>176269</td>\n",
       "      <td>3.5</td>\n",
       "      <td>3.50</td>\n",
       "      <td>NaN</td>\n",
       "      <td>NaN</td>\n",
       "    </tr>\n",
       "    <tr>\n",
       "      <th>4545056</th>\n",
       "      <td>83813</td>\n",
       "      <td>837</td>\n",
       "      <td>176271</td>\n",
       "      <td>5.0</td>\n",
       "      <td>5.00</td>\n",
       "      <td>NaN</td>\n",
       "      <td>NaN</td>\n",
       "    </tr>\n",
       "    <tr>\n",
       "      <th>4545057</th>\n",
       "      <td>25735653</td>\n",
       "      <td>267799</td>\n",
       "      <td>176273</td>\n",
       "      <td>1.0</td>\n",
       "      <td>1.00</td>\n",
       "      <td>NaN</td>\n",
       "      <td>NaN</td>\n",
       "    </tr>\n",
       "    <tr>\n",
       "      <th>4545058</th>\n",
       "      <td>17181377</td>\n",
       "      <td>178373</td>\n",
       "      <td>176275</td>\n",
       "      <td>3.0</td>\n",
       "      <td>3.00</td>\n",
       "      <td>NaN</td>\n",
       "      <td>NaN</td>\n",
       "    </tr>\n",
       "  </tbody>\n",
       "</table>\n",
       "</div>"
      ],
      "text/plain": [
       "         Unnamed: 0  userId  movieId  rating  mean   st dev    zscore\n",
       "4545039    18234770  189131   176231     2.5  2.50      NaN       NaN\n",
       "4545040    18234771  189131   176233     2.0  2.00      NaN       NaN\n",
       "4545041    18352091  190507   176235     1.5  1.50      NaN       NaN\n",
       "4545042    18234772  189131   176237     3.0  3.00      NaN       NaN\n",
       "4545043     3825706   39809   176239     3.0  3.75  1.06066 -0.707107\n",
       "4545044    18234773  189131   176239     4.5  3.75  1.06066  0.707107\n",
       "4545045    10368003  106988   176245     4.5  4.50      NaN       NaN\n",
       "4545046     2368643   24523   176249     3.5  3.50  0.00000       NaN\n",
       "4545047    18249944  189323   176249     3.5  3.50  0.00000       NaN\n",
       "4545048    22694436  235828   176251     2.0  2.00      NaN       NaN\n",
       "4545049    10392381  107291   176253     4.5  4.50      NaN       NaN\n",
       "4545050     7479928   77179   176255     2.0  2.00      NaN       NaN\n",
       "4545051    18234774  189131   176257     3.0  3.00      NaN       NaN\n",
       "4545052    18234775  189131   176259     3.5  3.50      NaN       NaN\n",
       "4545053    18234776  189131   176263     2.0  2.00      NaN       NaN\n",
       "4545054    18234777  189131   176267     4.0  4.00      NaN       NaN\n",
       "4545055     9448563   97528   176269     3.5  3.50      NaN       NaN\n",
       "4545056       83813     837   176271     5.0  5.00      NaN       NaN\n",
       "4545057    25735653  267799   176273     1.0  1.00      NaN       NaN\n",
       "4545058    17181377  178373   176275     3.0  3.00      NaN       NaN"
      ]
     },
     "execution_count": 43,
     "metadata": {},
     "output_type": "execute_result"
    }
   ],
   "source": [
    "#Calculating z-scores:\n",
    "movieId_ratings['zscore'] = (movieId_ratings['rating'] - movieId_ratings['mean']) / movieId_ratings['st dev']\n",
    "movieId_ratings.tail(10)"
   ]
  },
  {
   "cell_type": "code",
   "execution_count": 44,
   "metadata": {},
   "outputs": [
    {
     "name": "stdout",
     "output_type": "stream",
     "text": [
      "(26024289, 7)\n"
     ]
    }
   ],
   "source": [
    "initial_shape = movieId_ratings.shape\n",
    "print(initial_shape)"
   ]
  },
  {
   "cell_type": "markdown",
   "metadata": {},
   "source": [
    "## Data Cleaning"
   ]
  },
  {
   "cell_type": "markdown",
   "metadata": {},
   "source": [
    "First, let's delete the column in movie_Id_ratings \"Unnamed: 0\" because it is not needed for our analysis. (It is the original index of each rating in the ratings dataframe.) "
   ]
  },
  {
   "cell_type": "code",
   "execution_count": 45,
   "metadata": {},
   "outputs": [],
   "source": [
    "movieId_ratings['Unnamed: 0'] = np.nan"
   ]
  },
  {
   "cell_type": "code",
   "execution_count": 46,
   "metadata": {},
   "outputs": [
    {
     "data": {
      "text/html": [
       "<div>\n",
       "<style scoped>\n",
       "    .dataframe tbody tr th:only-of-type {\n",
       "        vertical-align: middle;\n",
       "    }\n",
       "\n",
       "    .dataframe tbody tr th {\n",
       "        vertical-align: top;\n",
       "    }\n",
       "\n",
       "    .dataframe thead th {\n",
       "        text-align: right;\n",
       "    }\n",
       "</style>\n",
       "<table border=\"1\" class=\"dataframe\">\n",
       "  <thead>\n",
       "    <tr style=\"text-align: right;\">\n",
       "      <th></th>\n",
       "      <th>userId</th>\n",
       "      <th>movieId</th>\n",
       "      <th>rating</th>\n",
       "      <th>mean</th>\n",
       "      <th>st dev</th>\n",
       "      <th>zscore</th>\n",
       "    </tr>\n",
       "  </thead>\n",
       "  <tbody>\n",
       "    <tr>\n",
       "      <th>0</th>\n",
       "      <td>8</td>\n",
       "      <td>1</td>\n",
       "      <td>4.0</td>\n",
       "      <td>3.888157</td>\n",
       "      <td>0.927513</td>\n",
       "      <td>0.120583</td>\n",
       "    </tr>\n",
       "    <tr>\n",
       "      <th>1</th>\n",
       "      <td>9</td>\n",
       "      <td>1</td>\n",
       "      <td>4.5</td>\n",
       "      <td>3.888157</td>\n",
       "      <td>0.927513</td>\n",
       "      <td>0.659659</td>\n",
       "    </tr>\n",
       "    <tr>\n",
       "      <th>2</th>\n",
       "      <td>12</td>\n",
       "      <td>1</td>\n",
       "      <td>4.0</td>\n",
       "      <td>3.888157</td>\n",
       "      <td>0.927513</td>\n",
       "      <td>0.120583</td>\n",
       "    </tr>\n",
       "    <tr>\n",
       "      <th>3</th>\n",
       "      <td>20</td>\n",
       "      <td>1</td>\n",
       "      <td>4.0</td>\n",
       "      <td>3.888157</td>\n",
       "      <td>0.927513</td>\n",
       "      <td>0.120583</td>\n",
       "    </tr>\n",
       "    <tr>\n",
       "      <th>4</th>\n",
       "      <td>24</td>\n",
       "      <td>1</td>\n",
       "      <td>4.0</td>\n",
       "      <td>3.888157</td>\n",
       "      <td>0.927513</td>\n",
       "      <td>0.120583</td>\n",
       "    </tr>\n",
       "  </tbody>\n",
       "</table>\n",
       "</div>"
      ],
      "text/plain": [
       "   userId  movieId  rating      mean    st dev    zscore\n",
       "0       8        1     4.0  3.888157  0.927513  0.120583\n",
       "1       9        1     4.5  3.888157  0.927513  0.659659\n",
       "2      12        1     4.0  3.888157  0.927513  0.120583\n",
       "3      20        1     4.0  3.888157  0.927513  0.120583\n",
       "4      24        1     4.0  3.888157  0.927513  0.120583"
      ]
     },
     "execution_count": 46,
     "metadata": {},
     "output_type": "execute_result"
    }
   ],
   "source": [
    "del movieId_ratings['Unnamed: 0']\n",
    "movieId_ratings.head()"
   ]
  },
  {
   "cell_type": "markdown",
   "metadata": {},
   "source": [
    "Another problem we have is that for movies with only 1 rating, the st dev is NaN. Because we're looking at how much user's ratings differ from the mean ratings, it doesn't make sense to analyze any movies with only a single review. Let's delete all movies with only a single review."
   ]
  },
  {
   "cell_type": "markdown",
   "metadata": {},
   "source": [
    "From the .tail() call above, we see that movies have a rating st dev of NaN **if and only if** they have only a single rating. Therefore, we can simply delete all rows with a st dev of NaN to delete these movies."
   ]
  },
  {
   "cell_type": "code",
   "execution_count": 47,
   "metadata": {},
   "outputs": [
    {
     "data": {
      "text/html": [
       "<div>\n",
       "<style scoped>\n",
       "    .dataframe tbody tr th:only-of-type {\n",
       "        vertical-align: middle;\n",
       "    }\n",
       "\n",
       "    .dataframe tbody tr th {\n",
       "        vertical-align: top;\n",
       "    }\n",
       "\n",
       "    .dataframe thead th {\n",
       "        text-align: right;\n",
       "    }\n",
       "</style>\n",
       "<table border=\"1\" class=\"dataframe\">\n",
       "  <thead>\n",
       "    <tr style=\"text-align: right;\">\n",
       "      <th></th>\n",
       "      <th>userId</th>\n",
       "      <th>movieId</th>\n",
       "      <th>rating</th>\n",
       "      <th>mean</th>\n",
       "      <th>st dev</th>\n",
       "      <th>zscore</th>\n",
       "    </tr>\n",
       "  </thead>\n",
       "  <tbody>\n",
       "    <tr>\n",
       "      <th>4545028</th>\n",
       "      <td>95436</td>\n",
       "      <td>176219</td>\n",
       "      <td>3.0</td>\n",
       "      <td>2.857143</td>\n",
       "      <td>1.435104</td>\n",
       "      <td>0.099545</td>\n",
       "    </tr>\n",
       "    <tr>\n",
       "      <th>4545029</th>\n",
       "      <td>95618</td>\n",
       "      <td>176219</td>\n",
       "      <td>3.0</td>\n",
       "      <td>2.857143</td>\n",
       "      <td>1.435104</td>\n",
       "      <td>0.099545</td>\n",
       "    </tr>\n",
       "    <tr>\n",
       "      <th>4545030</th>\n",
       "      <td>97891</td>\n",
       "      <td>176219</td>\n",
       "      <td>2.0</td>\n",
       "      <td>2.857143</td>\n",
       "      <td>1.435104</td>\n",
       "      <td>-0.597269</td>\n",
       "    </tr>\n",
       "    <tr>\n",
       "      <th>4545031</th>\n",
       "      <td>196061</td>\n",
       "      <td>176219</td>\n",
       "      <td>4.0</td>\n",
       "      <td>2.857143</td>\n",
       "      <td>1.435104</td>\n",
       "      <td>0.796358</td>\n",
       "    </tr>\n",
       "    <tr>\n",
       "      <th>4545032</th>\n",
       "      <td>243443</td>\n",
       "      <td>176219</td>\n",
       "      <td>0.5</td>\n",
       "      <td>2.857143</td>\n",
       "      <td>1.435104</td>\n",
       "      <td>-1.642489</td>\n",
       "    </tr>\n",
       "    <tr>\n",
       "      <th>4545033</th>\n",
       "      <td>258955</td>\n",
       "      <td>176219</td>\n",
       "      <td>5.0</td>\n",
       "      <td>2.857143</td>\n",
       "      <td>1.435104</td>\n",
       "      <td>1.493172</td>\n",
       "    </tr>\n",
       "    <tr>\n",
       "      <th>4545043</th>\n",
       "      <td>39809</td>\n",
       "      <td>176239</td>\n",
       "      <td>3.0</td>\n",
       "      <td>3.750000</td>\n",
       "      <td>1.060660</td>\n",
       "      <td>-0.707107</td>\n",
       "    </tr>\n",
       "    <tr>\n",
       "      <th>4545044</th>\n",
       "      <td>189131</td>\n",
       "      <td>176239</td>\n",
       "      <td>4.5</td>\n",
       "      <td>3.750000</td>\n",
       "      <td>1.060660</td>\n",
       "      <td>0.707107</td>\n",
       "    </tr>\n",
       "    <tr>\n",
       "      <th>4545046</th>\n",
       "      <td>24523</td>\n",
       "      <td>176249</td>\n",
       "      <td>3.5</td>\n",
       "      <td>3.500000</td>\n",
       "      <td>0.000000</td>\n",
       "      <td>NaN</td>\n",
       "    </tr>\n",
       "    <tr>\n",
       "      <th>4545047</th>\n",
       "      <td>189323</td>\n",
       "      <td>176249</td>\n",
       "      <td>3.5</td>\n",
       "      <td>3.500000</td>\n",
       "      <td>0.000000</td>\n",
       "      <td>NaN</td>\n",
       "    </tr>\n",
       "  </tbody>\n",
       "</table>\n",
       "</div>"
      ],
      "text/plain": [
       "         userId  movieId  rating      mean    st dev    zscore\n",
       "4545028   95436   176219     3.0  2.857143  1.435104  0.099545\n",
       "4545029   95618   176219     3.0  2.857143  1.435104  0.099545\n",
       "4545030   97891   176219     2.0  2.857143  1.435104 -0.597269\n",
       "4545031  196061   176219     4.0  2.857143  1.435104  0.796358\n",
       "4545032  243443   176219     0.5  2.857143  1.435104 -1.642489\n",
       "4545033  258955   176219     5.0  2.857143  1.435104  1.493172\n",
       "4545043   39809   176239     3.0  3.750000  1.060660 -0.707107\n",
       "4545044  189131   176239     4.5  3.750000  1.060660  0.707107\n",
       "4545046   24523   176249     3.5  3.500000  0.000000       NaN\n",
       "4545047  189323   176249     3.5  3.500000  0.000000       NaN"
      ]
     },
     "execution_count": 47,
     "metadata": {},
     "output_type": "execute_result"
    }
   ],
   "source": [
    "movieId_ratings = movieId_ratings[pd.notnull(movieId_ratings['st dev'])]\n",
    "movieId_ratings.tail(10)"
   ]
  },
  {
   "cell_type": "markdown",
   "metadata": {},
   "source": [
    "We've discarded all ratings for movies with only a single rating. Out of curiosity, how many movies only had one rating?"
   ]
  },
  {
   "cell_type": "code",
   "execution_count": 48,
   "metadata": {},
   "outputs": [
    {
     "name": "stdout",
     "output_type": "stream",
     "text": [
      "We discarded 7659 ratings, which means there were 7659 movies with only a single rating.\n"
     ]
    }
   ],
   "source": [
    "processed_shape = movieId_ratings.shape\n",
    "n_one_rating_movies = initial_shape[0] - processed_shape[0]\n",
    "print('We discarded ' + str(n_one_rating_movies) + ' ratings, which means there were ' + str(n_one_rating_movies) + ' movies with only a single rating.')"
   ]
  },
  {
   "cell_type": "markdown",
   "metadata": {},
   "source": [
    "However, we see above that there are still NaN values for the zscore for movies where all of the ratings are the same value. Let's just put a 0 in for the zscores of those reviews."
   ]
  },
  {
   "cell_type": "code",
   "execution_count": 49,
   "metadata": {},
   "outputs": [
    {
     "data": {
      "text/html": [
       "<div>\n",
       "<style scoped>\n",
       "    .dataframe tbody tr th:only-of-type {\n",
       "        vertical-align: middle;\n",
       "    }\n",
       "\n",
       "    .dataframe tbody tr th {\n",
       "        vertical-align: top;\n",
       "    }\n",
       "\n",
       "    .dataframe thead th {\n",
       "        text-align: right;\n",
       "    }\n",
       "</style>\n",
       "<table border=\"1\" class=\"dataframe\">\n",
       "  <thead>\n",
       "    <tr style=\"text-align: right;\">\n",
       "      <th></th>\n",
       "      <th>userId</th>\n",
       "      <th>movieId</th>\n",
       "      <th>rating</th>\n",
       "      <th>mean</th>\n",
       "      <th>st dev</th>\n",
       "      <th>zscore</th>\n",
       "    </tr>\n",
       "  </thead>\n",
       "  <tbody>\n",
       "    <tr>\n",
       "      <th>4545033</th>\n",
       "      <td>258955</td>\n",
       "      <td>176219</td>\n",
       "      <td>5.0</td>\n",
       "      <td>2.857143</td>\n",
       "      <td>1.435104</td>\n",
       "      <td>1.493172</td>\n",
       "    </tr>\n",
       "    <tr>\n",
       "      <th>4545043</th>\n",
       "      <td>39809</td>\n",
       "      <td>176239</td>\n",
       "      <td>3.0</td>\n",
       "      <td>3.750000</td>\n",
       "      <td>1.060660</td>\n",
       "      <td>-0.707107</td>\n",
       "    </tr>\n",
       "    <tr>\n",
       "      <th>4545044</th>\n",
       "      <td>189131</td>\n",
       "      <td>176239</td>\n",
       "      <td>4.5</td>\n",
       "      <td>3.750000</td>\n",
       "      <td>1.060660</td>\n",
       "      <td>0.707107</td>\n",
       "    </tr>\n",
       "    <tr>\n",
       "      <th>4545046</th>\n",
       "      <td>24523</td>\n",
       "      <td>176249</td>\n",
       "      <td>3.5</td>\n",
       "      <td>3.500000</td>\n",
       "      <td>0.000000</td>\n",
       "      <td>0.000000</td>\n",
       "    </tr>\n",
       "    <tr>\n",
       "      <th>4545047</th>\n",
       "      <td>189323</td>\n",
       "      <td>176249</td>\n",
       "      <td>3.5</td>\n",
       "      <td>3.500000</td>\n",
       "      <td>0.000000</td>\n",
       "      <td>0.000000</td>\n",
       "    </tr>\n",
       "  </tbody>\n",
       "</table>\n",
       "</div>"
      ],
      "text/plain": [
       "         userId  movieId  rating      mean    st dev    zscore\n",
       "4545033  258955   176219     5.0  2.857143  1.435104  1.493172\n",
       "4545043   39809   176239     3.0  3.750000  1.060660 -0.707107\n",
       "4545044  189131   176239     4.5  3.750000  1.060660  0.707107\n",
       "4545046   24523   176249     3.5  3.500000  0.000000  0.000000\n",
       "4545047  189323   176249     3.5  3.500000  0.000000  0.000000"
      ]
     },
     "execution_count": 49,
     "metadata": {},
     "output_type": "execute_result"
    }
   ],
   "source": [
    "movieId_ratings = movieId_ratings.fillna(0)\n",
    "movieId_ratings.tail()"
   ]
  },
  {
   "cell_type": "markdown",
   "metadata": {},
   "source": [
    "Perfect! Now that our data is formatted and cleaned, we are ready to do some statistical analyses. But first, let's go ahead and visualize our dataset so we have a better idea of what we're working with."
   ]
  },
  {
   "cell_type": "markdown",
   "metadata": {},
   "source": [
    "## Preliminary Visualizations"
   ]
  },
  {
   "cell_type": "markdown",
   "metadata": {},
   "source": [
    "First, let's just look at the average ratings given to movies:"
   ]
  },
  {
   "cell_type": "code",
   "execution_count": 52,
   "metadata": {},
   "outputs": [
    {
     "data": {
      "text/html": [
       "<div>\n",
       "<style scoped>\n",
       "    .dataframe tbody tr th:only-of-type {\n",
       "        vertical-align: middle;\n",
       "    }\n",
       "\n",
       "    .dataframe tbody tr th {\n",
       "        vertical-align: top;\n",
       "    }\n",
       "\n",
       "    .dataframe thead th {\n",
       "        text-align: right;\n",
       "    }\n",
       "</style>\n",
       "<table border=\"1\" class=\"dataframe\">\n",
       "  <thead>\n",
       "    <tr style=\"text-align: right;\">\n",
       "      <th></th>\n",
       "      <th>userId</th>\n",
       "      <th>rating</th>\n",
       "      <th>mean</th>\n",
       "      <th>st dev</th>\n",
       "      <th>zscore</th>\n",
       "    </tr>\n",
       "    <tr>\n",
       "      <th>movieId</th>\n",
       "      <th></th>\n",
       "      <th></th>\n",
       "      <th></th>\n",
       "      <th></th>\n",
       "      <th></th>\n",
       "    </tr>\n",
       "  </thead>\n",
       "  <tbody>\n",
       "    <tr>\n",
       "      <th>1</th>\n",
       "      <td>135121.043616</td>\n",
       "      <td>3.888157</td>\n",
       "      <td>3.888157</td>\n",
       "      <td>0.927513</td>\n",
       "      <td>-7.037759e-16</td>\n",
       "    </tr>\n",
       "    <tr>\n",
       "      <th>2</th>\n",
       "      <td>134877.953761</td>\n",
       "      <td>3.236953</td>\n",
       "      <td>3.236953</td>\n",
       "      <td>0.958437</td>\n",
       "      <td>-8.834155e-16</td>\n",
       "    </tr>\n",
       "    <tr>\n",
       "      <th>3</th>\n",
       "      <td>136520.452733</td>\n",
       "      <td>3.175550</td>\n",
       "      <td>3.175550</td>\n",
       "      <td>1.013307</td>\n",
       "      <td>9.312562e-16</td>\n",
       "    </tr>\n",
       "    <tr>\n",
       "      <th>4</th>\n",
       "      <td>136249.536062</td>\n",
       "      <td>2.875713</td>\n",
       "      <td>2.875713</td>\n",
       "      <td>1.111442</td>\n",
       "      <td>-4.506627e-16</td>\n",
       "    </tr>\n",
       "    <tr>\n",
       "      <th>5</th>\n",
       "      <td>135293.275855</td>\n",
       "      <td>3.079565</td>\n",
       "      <td>3.079565</td>\n",
       "      <td>0.993108</td>\n",
       "      <td>-3.684444e-16</td>\n",
       "    </tr>\n",
       "  </tbody>\n",
       "</table>\n",
       "</div>"
      ],
      "text/plain": [
       "                userId    rating      mean    st dev        zscore\n",
       "movieId                                                           \n",
       "1        135121.043616  3.888157  3.888157  0.927513 -7.037759e-16\n",
       "2        134877.953761  3.236953  3.236953  0.958437 -8.834155e-16\n",
       "3        136520.452733  3.175550  3.175550  1.013307  9.312562e-16\n",
       "4        136249.536062  2.875713  2.875713  1.111442 -4.506627e-16\n",
       "5        135293.275855  3.079565  3.079565  0.993108 -3.684444e-16"
      ]
     },
     "execution_count": 52,
     "metadata": {},
     "output_type": "execute_result"
    }
   ],
   "source": [
    "#Creating an avg_ratings_1 dataframe to hold each movie's average rating, grouped by movieId.\n",
    "#Note that this differs from the previously used avg_ratings df because this one excludes single-rating movies.\n",
    "avg_ratings_1 = movieId_ratings.groupby('movieId').mean()"
   ]
  },
  {
   "cell_type": "code",
   "execution_count": 57,
   "metadata": {},
   "outputs": [
    {
     "data": {
      "text/plain": [
       "Text(0,0.5,'Number of Movies')"
      ]
     },
     "execution_count": 57,
     "metadata": {},
     "output_type": "execute_result"
    },
    {
     "data": {
      "image/png": "[encoded data removed]",
      "text/plain": [
       "<Figure size 432x288 with 1 Axes>"
      ]
     },
     "metadata": {},
     "output_type": "display_data"
    }
   ],
   "source": [
    "plt.hist(avg_ratings_1['rating'], bins = 10)\n",
    "plt.xlabel('Average Rating')\n",
    "plt.ylabel('Number of Movies')"
   ]
  },
  {
   "cell_type": "markdown",
   "metadata": {},
   "source": [
    "As we can see, the vast majority of movies have an average rating of between 2.5 and 4 out of 5. The histogram has a pronounced negative skew, and very few movies appear to have an average rating above 4.\n",
    "\n",
    "Let's also take a look at the distribution of number of ratings per movie and number of ratings per user."
   ]
  },
  {
   "cell_type": "code",
   "execution_count": 60,
   "metadata": {},
   "outputs": [
    {
     "data": {
      "text/html": [
       "<div>\n",
       "<style scoped>\n",
       "    .dataframe tbody tr th:only-of-type {\n",
       "        vertical-align: middle;\n",
       "    }\n",
       "\n",
       "    .dataframe tbody tr th {\n",
       "        vertical-align: top;\n",
       "    }\n",
       "\n",
       "    .dataframe thead th {\n",
       "        text-align: right;\n",
       "    }\n",
       "</style>\n",
       "<table border=\"1\" class=\"dataframe\">\n",
       "  <thead>\n",
       "    <tr style=\"text-align: right;\">\n",
       "      <th></th>\n",
       "      <th>userId</th>\n",
       "      <th>rating</th>\n",
       "      <th>mean</th>\n",
       "      <th>st dev</th>\n",
       "      <th>zscore</th>\n",
       "    </tr>\n",
       "    <tr>\n",
       "      <th>movieId</th>\n",
       "      <th></th>\n",
       "      <th></th>\n",
       "      <th></th>\n",
       "      <th></th>\n",
       "      <th></th>\n",
       "    </tr>\n",
       "  </thead>\n",
       "  <tbody>\n",
       "    <tr>\n",
       "      <th>1</th>\n",
       "      <td>66008</td>\n",
       "      <td>66008</td>\n",
       "      <td>66008</td>\n",
       "      <td>66008</td>\n",
       "      <td>66008</td>\n",
       "    </tr>\n",
       "    <tr>\n",
       "      <th>2</th>\n",
       "      <td>26060</td>\n",
       "      <td>26060</td>\n",
       "      <td>26060</td>\n",
       "      <td>26060</td>\n",
       "      <td>26060</td>\n",
       "    </tr>\n",
       "    <tr>\n",
       "      <th>3</th>\n",
       "      <td>15497</td>\n",
       "      <td>15497</td>\n",
       "      <td>15497</td>\n",
       "      <td>15497</td>\n",
       "      <td>15497</td>\n",
       "    </tr>\n",
       "    <tr>\n",
       "      <th>4</th>\n",
       "      <td>2981</td>\n",
       "      <td>2981</td>\n",
       "      <td>2981</td>\n",
       "      <td>2981</td>\n",
       "      <td>2981</td>\n",
       "    </tr>\n",
       "    <tr>\n",
       "      <th>5</th>\n",
       "      <td>15258</td>\n",
       "      <td>15258</td>\n",
       "      <td>15258</td>\n",
       "      <td>15258</td>\n",
       "      <td>15258</td>\n",
       "    </tr>\n",
       "  </tbody>\n",
       "</table>\n",
       "</div>"
      ],
      "text/plain": [
       "         userId  rating   mean  st dev  zscore\n",
       "movieId                                       \n",
       "1         66008   66008  66008   66008   66008\n",
       "2         26060   26060  26060   26060   26060\n",
       "3         15497   15497  15497   15497   15497\n",
       "4          2981    2981   2981    2981    2981\n",
       "5         15258   15258  15258   15258   15258"
      ]
     },
     "execution_count": 60,
     "metadata": {},
     "output_type": "execute_result"
    }
   ],
   "source": [
    "n_ratings_per_movie = movieId_ratings.groupby('movieId').count()\n",
    "n_ratings_per_user = movieId_ratings.groupby('userId').count()"
   ]
  },
  {
   "cell_type": "code",
   "execution_count": 80,
   "metadata": {},
   "outputs": [
    {
     "data": {
      "text/plain": [
       "Text(0.5,1,'Histogram of number of ratings per movie')"
      ]
     },
     "execution_count": 80,
     "metadata": {},
     "output_type": "execute_result"
    },
    {
     "data": {
      "image/png": "[encoded data removed]",
      "text/plain": [
       "<Figure size 432x288 with 1 Axes>"
      ]
     },
     "metadata": {},
     "output_type": "display_data"
    }
   ],
   "source": [
    "plt.hist(n_ratings_per_movie['rating'], bins = 100)\n",
    "plt.xlabel('Number of ratings')\n",
    "plt.ylabel('Number of movies')\n",
    "plt.axis([0,20000,0,35000])\n",
    "plt.title('Histogram of number of ratings per movie')"
   ]
  },
  {
   "cell_type": "markdown",
   "metadata": {},
   "source": [
    "From this graph, we can see that almost all movies have a relatively small number of reviews, and there is a profound positive skew. This is expected because there is a huge number of films that come out and don't become popular, and as a result have few reviews. Movies that do become very popular, however, do garner a significant number of reviews. \n",
    "\n",
    "The movie with the most reviews is Forrest Gump, with a whopping 91,921 ratings and a 4.05 star average rating."
   ]
  },
  {
   "cell_type": "code",
   "execution_count": null,
   "metadata": {},
   "outputs": [],
   "source": []
  }
 ],
 "metadata": {
  "kernelspec": {
   "display_name": "Python 3",
   "language": "python",
   "name": "python3"
  },
  "language_info": {
   "codemirror_mode": {
    "name": "ipython",
    "version": 3
   },
   "file_extension": ".py",
   "mimetype": "text/x-python",
   "name": "python",
   "nbconvert_exporter": "python",
   "pygments_lexer": "ipython3",
   "version": "3.6.5"
  }
 },
 "nbformat": 4,
 "nbformat_minor": 2
}
